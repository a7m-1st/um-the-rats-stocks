{
 "cells": [
  {
   "cell_type": "code",
   "execution_count": 1,
   "id": "f8f3aca8",
   "metadata": {},
   "outputs": [
    {
     "name": "stdout",
     "output_type": "stream",
     "text": [
      "Collecting cybotrade-datasource\n",
      "  Downloading cybotrade_datasource-0.1.1-cp311-cp311-win_amd64.whl.metadata (2.9 kB)\n",
      "Downloading cybotrade_datasource-0.1.1-cp311-cp311-win_amd64.whl (2.6 MB)\n",
      "   ---------------------------------------- 0.0/2.6 MB ? eta -:--:--\n",
      "   ---- ----------------------------------- 0.3/2.6 MB ? eta -:--:--\n",
      "   ------------ --------------------------- 0.8/2.6 MB 2.2 MB/s eta 0:00:01\n",
      "   ------------------------ --------------- 1.6/2.6 MB 3.0 MB/s eta 0:00:01\n",
      "   -------------------------------- ------- 2.1/2.6 MB 2.7 MB/s eta 0:00:01\n",
      "   -------------------------------- ------- 2.1/2.6 MB 2.7 MB/s eta 0:00:01\n",
      "   ---------------------------------------- 2.6/2.6 MB 2.3 MB/s eta 0:00:00\n",
      "Installing collected packages: cybotrade-datasource\n",
      "Successfully installed cybotrade-datasource-0.1.1\n",
      "Note: you may need to restart the kernel to use updated packages.\n"
     ]
    }
   ],
   "source": [
    "%pip install cybotrade-datasource"
   ]
  },
  {
   "cell_type": "code",
   "execution_count": 10,
   "id": "0309b1ad",
   "metadata": {},
   "outputs": [
    {
     "name": "stdout",
     "output_type": "stream",
     "text": [
      "Note: you may need to restart the kernel to use updated packages.\n"
     ]
    },
    {
     "name": "stderr",
     "output_type": "stream",
     "text": [
      "ERROR: Could not find a version that satisfies the requirement datatime (from versions: none)\n",
      "ERROR: No matching distribution found for datatime\n"
     ]
    },
    {
     "name": "stdout",
     "output_type": "stream",
     "text": [
      "Collecting pandas\n",
      "  Downloading pandas-2.2.3-cp311-cp311-win_amd64.whl.metadata (19 kB)\n",
      "Collecting numpy>=1.23.2 (from pandas)\n",
      "  Downloading numpy-2.2.4-cp311-cp311-win_amd64.whl.metadata (60 kB)\n",
      "Requirement already satisfied: python-dateutil>=2.8.2 in c:\\users\\asus\\desktop\\rats\\um-the-rats-stocks\\.venv\\lib\\site-packages (from pandas) (2.9.0.post0)\n",
      "Collecting pytz>=2020.1 (from pandas)\n",
      "  Downloading pytz-2025.2-py2.py3-none-any.whl.metadata (22 kB)\n",
      "Collecting tzdata>=2022.7 (from pandas)\n",
      "  Downloading tzdata-2025.2-py2.py3-none-any.whl.metadata (1.4 kB)\n",
      "Requirement already satisfied: six>=1.5 in c:\\users\\asus\\desktop\\rats\\um-the-rats-stocks\\.venv\\lib\\site-packages (from python-dateutil>=2.8.2->pandas) (1.17.0)\n",
      "Downloading pandas-2.2.3-cp311-cp311-win_amd64.whl (11.6 MB)\n",
      "   ---------------------------------------- 0.0/11.6 MB ? eta -:--:--\n",
      "   - -------------------------------------- 0.5/11.6 MB 2.8 MB/s eta 0:00:04\n",
      "   -- ------------------------------------- 0.8/11.6 MB 1.8 MB/s eta 0:00:07\n",
      "   ---- ----------------------------------- 1.3/11.6 MB 2.1 MB/s eta 0:00:05\n",
      "   ------ --------------------------------- 1.8/11.6 MB 2.1 MB/s eta 0:00:05\n",
      "   -------- ------------------------------- 2.4/11.6 MB 2.4 MB/s eta 0:00:04\n",
      "   ---------- ----------------------------- 3.1/11.6 MB 2.6 MB/s eta 0:00:04\n",
      "   ------------- -------------------------- 3.9/11.6 MB 2.7 MB/s eta 0:00:03\n",
      "   -------------- ------------------------- 4.2/11.6 MB 2.7 MB/s eta 0:00:03\n",
      "   ---------------- ----------------------- 4.7/11.6 MB 2.6 MB/s eta 0:00:03\n",
      "   ------------------ --------------------- 5.2/11.6 MB 2.6 MB/s eta 0:00:03\n",
      "   -------------------- ------------------- 6.0/11.6 MB 2.6 MB/s eta 0:00:03\n",
      "   ---------------------- ----------------- 6.6/11.6 MB 2.7 MB/s eta 0:00:02\n",
      "   ------------------------- -------------- 7.3/11.6 MB 2.7 MB/s eta 0:00:02\n",
      "   --------------------------- ------------ 7.9/11.6 MB 2.7 MB/s eta 0:00:02\n",
      "   ---------------------------- ----------- 8.4/11.6 MB 2.7 MB/s eta 0:00:02\n",
      "   ------------------------------- -------- 9.2/11.6 MB 2.8 MB/s eta 0:00:01\n",
      "   -------------------------------- ------- 9.4/11.6 MB 2.7 MB/s eta 0:00:01\n",
      "   --------------------------------- ------ 9.7/11.6 MB 2.7 MB/s eta 0:00:01\n",
      "   ---------------------------------- ----- 10.0/11.6 MB 2.6 MB/s eta 0:00:01\n",
      "   ------------------------------------ --- 10.5/11.6 MB 2.5 MB/s eta 0:00:01\n",
      "   ------------------------------------- -- 10.7/11.6 MB 2.4 MB/s eta 0:00:01\n",
      "   ------------------------------------- -- 11.0/11.6 MB 2.4 MB/s eta 0:00:01\n",
      "   -------------------------------------- - 11.3/11.6 MB 2.4 MB/s eta 0:00:01\n",
      "   ---------------------------------------- 11.6/11.6 MB 2.3 MB/s eta 0:00:00\n",
      "Downloading numpy-2.2.4-cp311-cp311-win_amd64.whl (12.9 MB)\n",
      "   ---------------------------------------- 0.0/12.9 MB ? eta -:--:--\n",
      "    --------------------------------------- 0.3/12.9 MB ? eta -:--:--\n",
      "   - -------------------------------------- 0.5/12.9 MB 1.4 MB/s eta 0:00:09\n",
      "   -- ------------------------------------- 0.8/12.9 MB 1.3 MB/s eta 0:00:10\n",
      "   --- ------------------------------------ 1.0/12.9 MB 1.4 MB/s eta 0:00:09\n",
      "   ---- ----------------------------------- 1.3/12.9 MB 1.3 MB/s eta 0:00:09\n",
      "   ---- ----------------------------------- 1.6/12.9 MB 1.4 MB/s eta 0:00:09\n",
      "   ------ --------------------------------- 2.1/12.9 MB 1.5 MB/s eta 0:00:08\n",
      "   ------- -------------------------------- 2.4/12.9 MB 1.5 MB/s eta 0:00:08\n",
      "   -------- ------------------------------- 2.6/12.9 MB 1.5 MB/s eta 0:00:08\n",
      "   -------- ------------------------------- 2.9/12.9 MB 1.4 MB/s eta 0:00:08\n",
      "   ---------- ----------------------------- 3.4/12.9 MB 1.5 MB/s eta 0:00:07\n",
      "   ----------- ---------------------------- 3.7/12.9 MB 1.5 MB/s eta 0:00:07\n",
      "   ------------ --------------------------- 3.9/12.9 MB 1.5 MB/s eta 0:00:06\n",
      "   ------------- -------------------------- 4.5/12.9 MB 1.5 MB/s eta 0:00:06\n",
      "   ------------- -------------------------- 4.5/12.9 MB 1.5 MB/s eta 0:00:06\n",
      "   -------------- ------------------------- 4.7/12.9 MB 1.5 MB/s eta 0:00:06\n",
      "   --------------- ------------------------ 5.0/12.9 MB 1.4 MB/s eta 0:00:06\n",
      "   ---------------- ----------------------- 5.2/12.9 MB 1.4 MB/s eta 0:00:06\n",
      "   ----------------- ---------------------- 5.5/12.9 MB 1.4 MB/s eta 0:00:06\n",
      "   ----------------- ---------------------- 5.8/12.9 MB 1.4 MB/s eta 0:00:06\n",
      "   ------------------ --------------------- 6.0/12.9 MB 1.4 MB/s eta 0:00:05\n",
      "   -------------------- ------------------- 6.6/12.9 MB 1.4 MB/s eta 0:00:05\n",
      "   --------------------- ------------------ 6.8/12.9 MB 1.4 MB/s eta 0:00:05\n",
      "   --------------------- ------------------ 7.1/12.9 MB 1.4 MB/s eta 0:00:05\n",
      "   ----------------------- ---------------- 7.6/12.9 MB 1.5 MB/s eta 0:00:04\n",
      "   ------------------------- -------------- 8.1/12.9 MB 1.5 MB/s eta 0:00:04\n",
      "   ------------------------- -------------- 8.4/12.9 MB 1.5 MB/s eta 0:00:04\n",
      "   -------------------------- ------------- 8.7/12.9 MB 1.5 MB/s eta 0:00:03\n",
      "   --------------------------- ------------ 8.9/12.9 MB 1.5 MB/s eta 0:00:03\n",
      "   ----------------------------- ---------- 9.4/12.9 MB 1.5 MB/s eta 0:00:03\n",
      "   ----------------------------- ---------- 9.7/12.9 MB 1.5 MB/s eta 0:00:03\n",
      "   ------------------------------ --------- 10.0/12.9 MB 1.5 MB/s eta 0:00:02\n",
      "   ------------------------------- -------- 10.2/12.9 MB 1.5 MB/s eta 0:00:02\n",
      "   -------------------------------- ------- 10.5/12.9 MB 1.5 MB/s eta 0:00:02\n",
      "   --------------------------------- ------ 10.7/12.9 MB 1.5 MB/s eta 0:00:02\n",
      "   ---------------------------------- ----- 11.3/12.9 MB 1.5 MB/s eta 0:00:02\n",
      "   ----------------------------------- ---- 11.5/12.9 MB 1.5 MB/s eta 0:00:01\n",
      "   ------------------------------------ --- 11.8/12.9 MB 1.5 MB/s eta 0:00:01\n",
      "   -------------------------------------- - 12.3/12.9 MB 1.5 MB/s eta 0:00:01\n",
      "   -------------------------------------- - 12.6/12.9 MB 1.5 MB/s eta 0:00:01\n",
      "   -------------------------------------- - 12.6/12.9 MB 1.5 MB/s eta 0:00:01\n",
      "   ---------------------------------------- 12.9/12.9 MB 1.5 MB/s eta 0:00:00\n",
      "Downloading pytz-2025.2-py2.py3-none-any.whl (509 kB)\n",
      "Downloading tzdata-2025.2-py2.py3-none-any.whl (347 kB)\n",
      "Installing collected packages: pytz, tzdata, numpy, pandas\n",
      "Successfully installed numpy-2.2.4 pandas-2.2.3 pytz-2025.2 tzdata-2025.2\n",
      "Note: you may need to restart the kernel to use updated packages.\n"
     ]
    }
   ],
   "source": [
    "import cybotrade_datasource\n",
    "%pip install datatime\n",
    "%pip install pandas\n"
   ]
  },
  {
   "cell_type": "code",
   "execution_count": 12,
   "id": "848f7330",
   "metadata": {},
   "outputs": [],
   "source": [
    "from datetime import datetime, timezone\n",
    "import pandas as pd\n",
    "\n",
    "API_KEY = \"kcEFiZuVmiHbcW1od5vqsPwUUrCiCJOP3ok5h2oaOfTZJLvX\"\n",
    "\n",
    "data = await cybotrade_datasource.query_paginated(\n",
    "    api_key=API_KEY, \n",
    "    topic='cryptoquant|btc/inter-entity-flows/miner-to-miner?from_miner=f2pool&to_miner=all_miner&window=hour', \n",
    "    start_time=datetime(year=2024, month=1, day=1, tzinfo=timezone.utc),\n",
    "    end_time=datetime(year=2025, month=1, day=1, tzinfo=timezone.utc)\n",
    ")\n",
    "df = pd.DataFrame(data)"
   ]
  },
  {
   "cell_type": "code",
   "execution_count": null,
   "id": "b2fa1935",
   "metadata": {},
   "outputs": [
    {
     "data": {
      "text/plain": [
       "<Task pending name='Task-12' coro=<main() running at C:\\Users\\ASUS\\AppData\\Local\\Temp\\ipykernel_29324\\3589879609.py:8>>"
      ]
     },
     "execution_count": 17,
     "metadata": {},
     "output_type": "execute_result"
    },
    {
     "name": "stdout",
     "output_type": "stream",
     "text": [
      "{'conn_id': 'd9699f85-8bbb-48c9-b2cf-0016bf473a41', 'success': True, 'message': 'successfully connected with 2 topics'}\n",
      "{'topic': 'cryptoquant|btc/market-data/liquidations?exchange=deribit&window=min', 'data': [{'start_time': 1744469400000, 'datetime': '2025-04-12 14:50:00', 'long_liquidations': 0.0, 'long_liquidations_usd': 0.0, 'short_liquidations': 0.0, 'short_liquidations_usd': 0.0}], 'local_timestamp_ms': 1744469483339, 'type': 'delta'}\n",
      "{'topic': 'cryptoquant|btc/market-data/liquidations?exchange=deribit&window=min', 'data': [{'start_time': 1744469460000, 'datetime': '2025-04-12 14:51:00', 'long_liquidations': 0.0, 'long_liquidations_usd': 0.0, 'short_liquidations': 0.0, 'short_liquidations_usd': 0.0}], 'local_timestamp_ms': 1744469543271, 'type': 'delta'}\n",
      "{'topic': 'cryptoquant|btc/market-data/liquidations?exchange=deribit&window=min', 'data': [{'start_time': 1744469460000, 'datetime': '2025-04-12 14:51:00', 'long_liquidations': 0.0, 'long_liquidations_usd': 0.0, 'short_liquidations': 0.0, 'short_liquidations_usd': 0.0}, {'start_time': 1744469520000, 'datetime': '2025-04-12 14:52:00', 'long_liquidations': 0.0, 'long_liquidations_usd': 0.0, 'short_liquidations': 0.0, 'short_liquidations_usd': 0.0}], 'local_timestamp_ms': 1744469614142, 'type': 'delta'}\n",
      "{'topic': 'cryptoquant|btc/market-data/liquidations?exchange=deribit&window=min', 'data': [{'start_time': 1744469580000, 'datetime': '2025-04-12 14:53:00', 'long_liquidations': 0.0, 'long_liquidations_usd': 0.0, 'short_liquidations': 0.0, 'short_liquidations_usd': 0.0}], 'local_timestamp_ms': 1744469663269, 'type': 'delta'}\n",
      "{'topic': 'cryptoquant|btc/market-data/liquidations?exchange=deribit&window=min', 'data': [{'start_time': 1744469640000, 'datetime': '2025-04-12 14:54:00', 'long_liquidations': 0.0, 'long_liquidations_usd': 0.0, 'short_liquidations': 0.0, 'short_liquidations_usd': 0.0}], 'local_timestamp_ms': 1744469723819, 'type': 'delta'}\n",
      "{'topic': 'cryptoquant|btc/market-data/liquidations?exchange=deribit&window=min', 'data': [{'start_time': 1744469700000, 'datetime': '2025-04-12 14:55:00', 'long_liquidations': 0.0, 'long_liquidations_usd': 0.0, 'short_liquidations': 0.0, 'short_liquidations_usd': 0.0}], 'local_timestamp_ms': 1744469783294, 'type': 'delta'}\n",
      "{'topic': 'cryptoquant|btc/market-data/liquidations?exchange=deribit&window=min', 'data': [{'start_time': 1744469760000, 'datetime': '2025-04-12 14:56:00', 'long_liquidations': 0.0, 'long_liquidations_usd': 0.0, 'short_liquidations': 0.0, 'short_liquidations_usd': 0.0}], 'local_timestamp_ms': 1744469843264, 'type': 'delta'}\n",
      "{'topic': 'cryptoquant|btc/market-data/liquidations?exchange=deribit&window=min', 'data': [{'start_time': 1744469820000, 'datetime': '2025-04-12 14:57:00', 'long_liquidations': 0.0, 'long_liquidations_usd': 0.0, 'short_liquidations': 0.0, 'short_liquidations_usd': 0.0}], 'local_timestamp_ms': 1744469903254, 'type': 'delta'}\n",
      "{'topic': 'cryptoquant|btc/market-data/liquidations?exchange=deribit&window=min', 'data': [{'start_time': 1744469880000, 'datetime': '2025-04-12 14:58:00', 'long_liquidations': 0.0, 'long_liquidations_usd': 0.0, 'short_liquidations': 0.0, 'short_liquidations_usd': 0.0}], 'local_timestamp_ms': 1744469963266, 'type': 'delta'}\n",
      "{'topic': 'cryptoquant|btc/market-data/liquidations?exchange=deribit&window=min', 'data': [{'start_time': 1744469940000, 'datetime': '2025-04-12 14:59:00', 'long_liquidations': 0.0, 'long_liquidations_usd': 0.0, 'short_liquidations': 0.0, 'short_liquidations_usd': 0.0}], 'local_timestamp_ms': 1744470023266, 'type': 'delta'}\n",
      "{'topic': 'cryptoquant|btc/market-data/liquidations?exchange=deribit&window=min', 'data': [{'start_time': 1744470000000, 'datetime': '2025-04-12 15:00:00', 'long_liquidations': 0.0, 'long_liquidations_usd': 0.0, 'short_liquidations': 0.0, 'short_liquidations_usd': 0.0}], 'local_timestamp_ms': 1744470093592, 'type': 'delta'}\n",
      "{'topic': 'cryptoquant|btc/market-data/liquidations?exchange=deribit&window=min', 'data': [{'start_time': 1744470060000, 'datetime': '2025-04-12 15:01:00', 'long_liquidations': 0.0, 'long_liquidations_usd': 0.0, 'short_liquidations': 0.0, 'short_liquidations_usd': 0.0}], 'local_timestamp_ms': 1744470143326, 'type': 'delta'}\n",
      "{'topic': 'cryptoquant|btc/market-data/liquidations?exchange=deribit&window=min', 'data': [{'start_time': 1744470120000, 'datetime': '2025-04-12 15:02:00', 'long_liquidations': 0.0, 'long_liquidations_usd': 0.0, 'short_liquidations': 0.0, 'short_liquidations_usd': 0.0}], 'local_timestamp_ms': 1744470203249, 'type': 'delta'}\n",
      "{'topic': 'cryptoquant|btc/market-data/liquidations?exchange=deribit&window=min', 'data': [{'start_time': 1744470180000, 'datetime': '2025-04-12 15:03:00', 'long_liquidations': 0.0, 'long_liquidations_usd': 0.0, 'short_liquidations': 0.0, 'short_liquidations_usd': 0.0}], 'local_timestamp_ms': 1744470263352, 'type': 'delta'}\n",
      "{'topic': 'cryptoquant|btc/market-data/liquidations?exchange=deribit&window=min', 'data': [{'start_time': 1744470240000, 'datetime': '2025-04-12 15:04:00', 'long_liquidations': 0.0, 'long_liquidations_usd': 0.0, 'short_liquidations': 0.0, 'short_liquidations_usd': 0.0}], 'local_timestamp_ms': 1744470323257, 'type': 'delta'}\n",
      "{'topic': 'cryptoquant|btc/market-data/liquidations?exchange=deribit&window=min', 'data': [{'start_time': 1744470300000, 'datetime': '2025-04-12 15:05:00', 'long_liquidations': 0.0, 'long_liquidations_usd': 0.0, 'short_liquidations': 0.0, 'short_liquidations_usd': 0.0}], 'local_timestamp_ms': 1744470383330, 'type': 'delta'}\n",
      "{'topic': 'cryptoquant|btc/market-data/liquidations?exchange=deribit&window=min', 'data': [{'start_time': 1744470360000, 'datetime': '2025-04-12 15:06:00', 'long_liquidations': 0.0, 'long_liquidations_usd': 0.0, 'short_liquidations': 0.0, 'short_liquidations_usd': 0.0}], 'local_timestamp_ms': 1744470443266, 'type': 'delta'}\n",
      "{'topic': 'cryptoquant|btc/market-data/liquidations?exchange=deribit&window=min', 'data': [{'start_time': 1744470420000, 'datetime': '2025-04-12 15:07:00', 'long_liquidations': 0.0, 'long_liquidations_usd': 0.0, 'short_liquidations': 0.0, 'short_liquidations_usd': 0.0}], 'local_timestamp_ms': 1744470503256, 'type': 'delta'}\n",
      "{'topic': 'cryptoquant|btc/market-data/liquidations?exchange=deribit&window=min', 'data': [{'start_time': 1744470480000, 'datetime': '2025-04-12 15:08:00', 'long_liquidations': 0.0, 'long_liquidations_usd': 0.0, 'short_liquidations': 0.0, 'short_liquidations_usd': 0.0}], 'local_timestamp_ms': 1744470563796, 'type': 'delta'}\n",
      "{'topic': 'cryptoquant|btc/market-data/liquidations?exchange=deribit&window=min', 'data': [{'start_time': 1744470540000, 'datetime': '2025-04-12 15:09:00', 'long_liquidations': 0.0, 'long_liquidations_usd': 0.0, 'short_liquidations': 0.0, 'short_liquidations_usd': 0.0}], 'local_timestamp_ms': 1744470623428, 'type': 'delta'}\n",
      "{'topic': 'cryptoquant|btc/market-data/liquidations?exchange=deribit&window=min', 'data': [{'start_time': 1744470600000, 'datetime': '2025-04-12 15:10:00', 'long_liquidations': 0.0, 'long_liquidations_usd': 0.0, 'short_liquidations': 0.0, 'short_liquidations_usd': 0.0}], 'local_timestamp_ms': 1744470683261, 'type': 'delta'}\n",
      "{'topic': 'cryptoquant|btc/market-data/liquidations?exchange=deribit&window=min', 'data': [{'start_time': 1744470660000, 'datetime': '2025-04-12 15:11:00', 'long_liquidations': 0.0, 'long_liquidations_usd': 0.0, 'short_liquidations': 0.0, 'short_liquidations_usd': 0.0}], 'local_timestamp_ms': 1744470743304, 'type': 'delta'}\n",
      "{'topic': 'cryptoquant|btc/market-data/liquidations?exchange=deribit&window=min', 'data': [{'start_time': 1744470720000, 'datetime': '2025-04-12 15:12:00', 'long_liquidations': 0.0, 'long_liquidations_usd': 0.0, 'short_liquidations': 0.0, 'short_liquidations_usd': 0.0}], 'local_timestamp_ms': 1744470803318, 'type': 'delta'}\n",
      "{'topic': 'cryptoquant|btc/market-data/liquidations?exchange=deribit&window=min', 'data': [{'start_time': 1744470780000, 'datetime': '2025-04-12 15:13:00', 'long_liquidations': 0.0, 'long_liquidations_usd': 0.0, 'short_liquidations': 0.0, 'short_liquidations_usd': 0.0}], 'local_timestamp_ms': 1744470863296, 'type': 'delta'}\n",
      "{'topic': 'cryptoquant|btc/market-data/liquidations?exchange=deribit&window=min', 'data': [{'start_time': 1744470840000, 'datetime': '2025-04-12 15:14:00', 'long_liquidations': 0.0, 'long_liquidations_usd': 0.0, 'short_liquidations': 0.0, 'short_liquidations_usd': 0.0}], 'local_timestamp_ms': 1744470923281, 'type': 'delta'}\n",
      "{'topic': 'cryptoquant|btc/market-data/liquidations?exchange=deribit&window=min', 'data': [{'start_time': 1744470900000, 'datetime': '2025-04-12 15:15:00', 'long_liquidations': 0.0, 'long_liquidations_usd': 0.0, 'short_liquidations': 0.0, 'short_liquidations_usd': 0.0}], 'local_timestamp_ms': 1744470983355, 'type': 'delta'}\n",
      "{'topic': 'cryptoquant|btc/inter-entity-flows/miner-to-miner?from_miner=f2pool&to_miner=all_miner&window=hour', 'data': [{'start_time': 1744466400000, 'datetime': '2025-04-12 14:00:00', 'flow_mean': 0.00183902, 'flow_total': 0.02390727, 'transactions_count_flow': 13}], 'local_timestamp_ms': 1744471009330, 'type': 'delta'}\n",
      "{'topic': 'cryptoquant|btc/market-data/liquidations?exchange=deribit&window=min', 'data': [{'start_time': 1744470960000, 'datetime': '2025-04-12 15:16:00', 'long_liquidations': 0.0, 'long_liquidations_usd': 0.0, 'short_liquidations': 0.0, 'short_liquidations_usd': 0.0}], 'local_timestamp_ms': 1744471043289, 'type': 'delta'}\n",
      "{'topic': 'cryptoquant|btc/market-data/liquidations?exchange=deribit&window=min', 'data': [{'start_time': 1744471020000, 'datetime': '2025-04-12 15:17:00', 'long_liquidations': 0.0, 'long_liquidations_usd': 0.0, 'short_liquidations': 0.0, 'short_liquidations_usd': 0.0}], 'local_timestamp_ms': 1744471103291, 'type': 'delta'}\n",
      "{'topic': 'cryptoquant|btc/market-data/liquidations?exchange=deribit&window=min', 'data': [{'start_time': 1744471080000, 'datetime': '2025-04-12 15:18:00', 'long_liquidations': 0.0, 'long_liquidations_usd': 0.0, 'short_liquidations': 0.0, 'short_liquidations_usd': 0.0}], 'local_timestamp_ms': 1744471163306, 'type': 'delta'}\n",
      "{'topic': 'cryptoquant|btc/market-data/liquidations?exchange=deribit&window=min', 'data': [{'start_time': 1744471140000, 'datetime': '2025-04-12 15:19:00', 'long_liquidations': 0.0, 'long_liquidations_usd': 0.0, 'short_liquidations': 0.0, 'short_liquidations_usd': 0.0}], 'local_timestamp_ms': 1744471223248, 'type': 'delta'}\n",
      "{'topic': 'cryptoquant|btc/market-data/liquidations?exchange=deribit&window=min', 'data': [{'start_time': 1744471200000, 'datetime': '2025-04-12 15:20:00', 'long_liquidations': 0.0, 'long_liquidations_usd': 0.0, 'short_liquidations': 0.0, 'short_liquidations_usd': 0.0}], 'local_timestamp_ms': 1744471283284, 'type': 'delta'}\n",
      "{'topic': 'cryptoquant|btc/market-data/liquidations?exchange=deribit&window=min', 'data': [{'start_time': 1744471260000, 'datetime': '2025-04-12 15:21:00', 'long_liquidations': 0.0, 'long_liquidations_usd': 0.0, 'short_liquidations': 0.0, 'short_liquidations_usd': 0.0}], 'local_timestamp_ms': 1744471343804, 'type': 'delta'}\n",
      "{'topic': 'cryptoquant|btc/market-data/liquidations?exchange=deribit&window=min', 'data': [{'start_time': 1744471320000, 'datetime': '2025-04-12 15:22:00', 'long_liquidations': 0.0, 'long_liquidations_usd': 0.0, 'short_liquidations': 0.0, 'short_liquidations_usd': 0.0}], 'local_timestamp_ms': 1744471403285, 'type': 'delta'}\n",
      "{'topic': 'cryptoquant|btc/market-data/liquidations?exchange=deribit&window=min', 'data': [{'start_time': 1744471380000, 'datetime': '2025-04-12 15:23:00', 'long_liquidations': 0.0, 'long_liquidations_usd': 0.0, 'short_liquidations': 0.0, 'short_liquidations_usd': 0.0}], 'local_timestamp_ms': 1744471463270, 'type': 'delta'}\n",
      "{'topic': 'cryptoquant|btc/market-data/liquidations?exchange=deribit&window=min', 'data': [{'start_time': 1744471440000, 'datetime': '2025-04-12 15:24:00', 'long_liquidations': 0.0, 'long_liquidations_usd': 0.0, 'short_liquidations': 0.0, 'short_liquidations_usd': 0.0}], 'local_timestamp_ms': 1744471523344, 'type': 'delta'}\n",
      "{'topic': 'cryptoquant|btc/market-data/liquidations?exchange=deribit&window=min', 'data': [{'start_time': 1744471500000, 'datetime': '2025-04-12 15:25:00', 'long_liquidations': 0.0, 'long_liquidations_usd': 0.0, 'short_liquidations': 0.0, 'short_liquidations_usd': 0.0}], 'local_timestamp_ms': 1744471583278, 'type': 'delta'}\n",
      "{'topic': 'cryptoquant|btc/market-data/liquidations?exchange=deribit&window=min', 'data': [{'start_time': 1744471560000, 'datetime': '2025-04-12 15:26:00', 'long_liquidations': 0.0, 'long_liquidations_usd': 0.0, 'short_liquidations': 0.0, 'short_liquidations_usd': 0.0}], 'local_timestamp_ms': 1744471643300, 'type': 'delta'}\n",
      "{'topic': 'cryptoquant|btc/market-data/liquidations?exchange=deribit&window=min', 'data': [{'start_time': 1744471620000, 'datetime': '2025-04-12 15:27:00', 'long_liquidations': 0.0, 'long_liquidations_usd': 0.0, 'short_liquidations': 0.0, 'short_liquidations_usd': 0.0}], 'local_timestamp_ms': 1744471703275, 'type': 'delta'}\n",
      "{'topic': 'cryptoquant|btc/market-data/liquidations?exchange=deribit&window=min', 'data': [{'start_time': 1744471680000, 'datetime': '2025-04-12 15:28:00', 'long_liquidations': 0.0, 'long_liquidations_usd': 0.0, 'short_liquidations': 0.0, 'short_liquidations_usd': 0.0}], 'local_timestamp_ms': 1744471763458, 'type': 'delta'}\n",
      "{'topic': 'cryptoquant|btc/market-data/liquidations?exchange=deribit&window=min', 'data': [{'start_time': 1744471740000, 'datetime': '2025-04-12 15:29:00', 'long_liquidations': 0.0, 'long_liquidations_usd': 0.0, 'short_liquidations': 0.0, 'short_liquidations_usd': 0.0}], 'local_timestamp_ms': 1744471833608, 'type': 'delta'}\n",
      "{'topic': 'cryptoquant|btc/market-data/liquidations?exchange=deribit&window=min', 'data': [{'start_time': 1744471800000, 'datetime': '2025-04-12 15:30:00', 'long_liquidations': 0.0, 'long_liquidations_usd': 0.0, 'short_liquidations': 0.0, 'short_liquidations_usd': 0.0}], 'local_timestamp_ms': 1744471893598, 'type': 'delta'}\n",
      "{'topic': 'cryptoquant|btc/market-data/liquidations?exchange=deribit&window=min', 'data': [{'start_time': 1744471860000, 'datetime': '2025-04-12 15:31:00', 'long_liquidations': 0.0, 'long_liquidations_usd': 0.0, 'short_liquidations': 0.0, 'short_liquidations_usd': 0.0}], 'local_timestamp_ms': 1744471943799, 'type': 'delta'}\n",
      "{'topic': 'cryptoquant|btc/market-data/liquidations?exchange=deribit&window=min', 'data': [{'start_time': 1744471920000, 'datetime': '2025-04-12 15:32:00', 'long_liquidations': 0.0, 'long_liquidations_usd': 0.0, 'short_liquidations': 0.0, 'short_liquidations_usd': 0.0}], 'local_timestamp_ms': 1744472003323, 'type': 'delta'}\n",
      "{'topic': 'cryptoquant|btc/market-data/liquidations?exchange=deribit&window=min', 'data': [{'start_time': 1744471980000, 'datetime': '2025-04-12 15:33:00', 'long_liquidations': 0.0, 'long_liquidations_usd': 0.0, 'short_liquidations': 0.0, 'short_liquidations_usd': 0.0}], 'local_timestamp_ms': 1744472063474, 'type': 'delta'}\n",
      "{'topic': 'cryptoquant|btc/market-data/liquidations?exchange=deribit&window=min', 'data': [{'start_time': 1744472040000, 'datetime': '2025-04-12 15:34:00', 'long_liquidations': 0.0, 'long_liquidations_usd': 0.0, 'short_liquidations': 0.0, 'short_liquidations_usd': 0.0}], 'local_timestamp_ms': 1744472123271, 'type': 'delta'}\n",
      "{'topic': 'cryptoquant|btc/market-data/liquidations?exchange=deribit&window=min', 'data': [{'start_time': 1744472100000, 'datetime': '2025-04-12 15:35:00', 'long_liquidations': 0.0, 'long_liquidations_usd': 0.0, 'short_liquidations': 0.0, 'short_liquidations_usd': 0.0}], 'local_timestamp_ms': 1744472183297, 'type': 'delta'}\n",
      "{'topic': 'cryptoquant|btc/market-data/liquidations?exchange=deribit&window=min', 'data': [{'start_time': 1744472160000, 'datetime': '2025-04-12 15:36:00', 'long_liquidations': 0.0, 'long_liquidations_usd': 0.0, 'short_liquidations': 0.0, 'short_liquidations_usd': 0.0}], 'local_timestamp_ms': 1744472243287, 'type': 'delta'}\n",
      "{'topic': 'cryptoquant|btc/market-data/liquidations?exchange=deribit&window=min', 'data': [{'start_time': 1744472220000, 'datetime': '2025-04-12 15:37:00', 'long_liquidations': 0.0, 'long_liquidations_usd': 0.0, 'short_liquidations': 0.0, 'short_liquidations_usd': 0.0}], 'local_timestamp_ms': 1744472303788, 'type': 'delta'}\n",
      "{'topic': 'cryptoquant|btc/market-data/liquidations?exchange=deribit&window=min', 'data': [{'start_time': 1744472280000, 'datetime': '2025-04-12 15:38:00', 'long_liquidations': 0.0, 'long_liquidations_usd': 0.0, 'short_liquidations': 0.0, 'short_liquidations_usd': 0.0}], 'local_timestamp_ms': 1744472363272, 'type': 'delta'}\n",
      "{'topic': 'cryptoquant|btc/market-data/liquidations?exchange=deribit&window=min', 'data': [{'start_time': 1744472340000, 'datetime': '2025-04-12 15:39:00', 'long_liquidations': 0.0, 'long_liquidations_usd': 0.0, 'short_liquidations': 0.0, 'short_liquidations_usd': 0.0}], 'local_timestamp_ms': 1744472423398, 'type': 'delta'}\n",
      "{'topic': 'cryptoquant|btc/market-data/liquidations?exchange=deribit&window=min', 'data': [{'start_time': 1744472400000, 'datetime': '2025-04-12 15:40:00', 'long_liquidations': 0.0, 'long_liquidations_usd': 0.0, 'short_liquidations': 0.0, 'short_liquidations_usd': 0.0}], 'local_timestamp_ms': 1744472483263, 'type': 'delta'}\n",
      "{'topic': 'cryptoquant|btc/market-data/liquidations?exchange=deribit&window=min', 'data': [{'start_time': 1744472460000, 'datetime': '2025-04-12 15:41:00', 'long_liquidations': 0.0, 'long_liquidations_usd': 0.0, 'short_liquidations': 0.0, 'short_liquidations_usd': 0.0}], 'local_timestamp_ms': 1744472543799, 'type': 'delta'}\n",
      "{'topic': 'cryptoquant|btc/market-data/liquidations?exchange=deribit&window=min', 'data': [{'start_time': 1744472520000, 'datetime': '2025-04-12 15:42:00', 'long_liquidations': 0.0, 'long_liquidations_usd': 0.0, 'short_liquidations': 0.0, 'short_liquidations_usd': 0.0}], 'local_timestamp_ms': 1744472603289, 'type': 'delta'}\n",
      "{'topic': 'cryptoquant|btc/market-data/liquidations?exchange=deribit&window=min', 'data': [{'start_time': 1744472580000, 'datetime': '2025-04-12 15:43:00', 'long_liquidations': 0.0, 'long_liquidations_usd': 0.0, 'short_liquidations': 0.0, 'short_liquidations_usd': 0.0}], 'local_timestamp_ms': 1744472663284, 'type': 'delta'}\n",
      "{'topic': 'cryptoquant|btc/market-data/liquidations?exchange=deribit&window=min', 'data': [{'start_time': 1744472640000, 'datetime': '2025-04-12 15:44:00', 'long_liquidations': 0.0, 'long_liquidations_usd': 0.0, 'short_liquidations': 0.0, 'short_liquidations_usd': 0.0}], 'local_timestamp_ms': 1744472723267, 'type': 'delta'}\n",
      "{'topic': 'cryptoquant|btc/market-data/liquidations?exchange=deribit&window=min', 'data': [{'start_time': 1744472700000, 'datetime': '2025-04-12 15:45:00', 'long_liquidations': 0.0, 'long_liquidations_usd': 0.0, 'short_liquidations': 0.0, 'short_liquidations_usd': 0.0}], 'local_timestamp_ms': 1744472783268, 'type': 'delta'}\n",
      "{'topic': 'cryptoquant|btc/market-data/liquidations?exchange=deribit&window=min', 'data': [{'start_time': 1744472700000, 'datetime': '2025-04-12 15:45:00', 'long_liquidations': 0.0, 'long_liquidations_usd': 0.0, 'short_liquidations': 0.0, 'short_liquidations_usd': 0.0}, {'start_time': 1744472760000, 'datetime': '2025-04-12 15:46:00', 'long_liquidations': 0.0, 'long_liquidations_usd': 0.0, 'short_liquidations': 0.0, 'short_liquidations_usd': 0.0}], 'local_timestamp_ms': 1744472843329, 'type': 'delta'}\n",
      "{'topic': 'cryptoquant|btc/market-data/liquidations?exchange=deribit&window=min', 'data': [{'start_time': 1744472820000, 'datetime': '2025-04-12 15:47:00', 'long_liquidations': 0.0, 'long_liquidations_usd': 0.0, 'short_liquidations': 0.0, 'short_liquidations_usd': 0.0}], 'local_timestamp_ms': 1744472903328, 'type': 'delta'}\n",
      "{'topic': 'cryptoquant|btc/market-data/liquidations?exchange=deribit&window=min', 'data': [{'start_time': 1744472880000, 'datetime': '2025-04-12 15:48:00', 'long_liquidations': 0.0, 'long_liquidations_usd': 0.0, 'short_liquidations': 0.0, 'short_liquidations_usd': 0.0}], 'local_timestamp_ms': 1744472963314, 'type': 'delta'}\n",
      "{'topic': 'cryptoquant|btc/market-data/liquidations?exchange=deribit&window=min', 'data': [{'start_time': 1744472940000, 'datetime': '2025-04-12 15:49:00', 'long_liquidations': 0.0, 'long_liquidations_usd': 0.0, 'short_liquidations': 0.0, 'short_liquidations_usd': 0.0}], 'local_timestamp_ms': 1744473033628, 'type': 'delta'}\n",
      "{'topic': 'cryptoquant|btc/market-data/liquidations?exchange=deribit&window=min', 'data': [{'start_time': 1744473000000, 'datetime': '2025-04-12 15:50:00', 'long_liquidations': 0.0, 'long_liquidations_usd': 0.0, 'short_liquidations': 0.0, 'short_liquidations_usd': 0.0}], 'local_timestamp_ms': 1744473083268, 'type': 'delta'}\n",
      "{'topic': 'cryptoquant|btc/market-data/liquidations?exchange=deribit&window=min', 'data': [{'start_time': 1744473060000, 'datetime': '2025-04-12 15:51:00', 'long_liquidations': 0.0, 'long_liquidations_usd': 0.0, 'short_liquidations': 0.0, 'short_liquidations_usd': 0.0}], 'local_timestamp_ms': 1744473143328, 'type': 'delta'}\n",
      "{'topic': 'cryptoquant|btc/market-data/liquidations?exchange=deribit&window=min', 'data': [{'start_time': 1744473060000, 'datetime': '2025-04-12 15:51:00', 'long_liquidations': 0.0, 'long_liquidations_usd': 0.0, 'short_liquidations': 0.0, 'short_liquidations_usd': 0.0}, {'start_time': 1744473120000, 'datetime': '2025-04-12 15:52:00', 'long_liquidations': 0.0, 'long_liquidations_usd': 0.0, 'short_liquidations': 0.0, 'short_liquidations_usd': 0.0}], 'local_timestamp_ms': 1744473203297, 'type': 'delta'}\n",
      "{'topic': 'cryptoquant|btc/market-data/liquidations?exchange=deribit&window=min', 'data': [{'start_time': 1744473180000, 'datetime': '2025-04-12 15:53:00', 'long_liquidations': 0.0, 'long_liquidations_usd': 0.0, 'short_liquidations': 0.0, 'short_liquidations_usd': 0.0}], 'local_timestamp_ms': 1744473263294, 'type': 'delta'}\n",
      "{'topic': 'cryptoquant|btc/market-data/liquidations?exchange=deribit&window=min', 'data': [{'start_time': 1744473240000, 'datetime': '2025-04-12 15:54:00', 'long_liquidations': 0.0, 'long_liquidations_usd': 0.0, 'short_liquidations': 0.0, 'short_liquidations_usd': 0.0}], 'local_timestamp_ms': 1744473323275, 'type': 'delta'}\n",
      "{'topic': 'cryptoquant|btc/market-data/liquidations?exchange=deribit&window=min', 'data': [{'start_time': 1744473300000, 'datetime': '2025-04-12 15:55:00', 'long_liquidations': 0.0, 'long_liquidations_usd': 0.0, 'short_liquidations': 0.0, 'short_liquidations_usd': 0.0}], 'local_timestamp_ms': 1744473383275, 'type': 'delta'}\n",
      "{'topic': 'cryptoquant|btc/market-data/liquidations?exchange=deribit&window=min', 'data': [{'start_time': 1744473360000, 'datetime': '2025-04-12 15:56:00', 'long_liquidations': 0.0, 'long_liquidations_usd': 0.0, 'short_liquidations': 0.0, 'short_liquidations_usd': 0.0}], 'local_timestamp_ms': 1744473443275, 'type': 'delta'}\n",
      "{'topic': 'cryptoquant|btc/market-data/liquidations?exchange=deribit&window=min', 'data': [{'start_time': 1744473420000, 'datetime': '2025-04-12 15:57:00', 'long_liquidations': 0.0, 'long_liquidations_usd': 0.0, 'short_liquidations': 0.0, 'short_liquidations_usd': 0.0}], 'local_timestamp_ms': 1744473503268, 'type': 'delta'}\n",
      "{'topic': 'cryptoquant|btc/market-data/liquidations?exchange=deribit&window=min', 'data': [{'start_time': 1744473480000, 'datetime': '2025-04-12 15:58:00', 'long_liquidations': 0.0, 'long_liquidations_usd': 0.0, 'short_liquidations': 0.0, 'short_liquidations_usd': 0.0}], 'local_timestamp_ms': 1744473563280, 'type': 'delta'}\n",
      "{'topic': 'cryptoquant|btc/market-data/liquidations?exchange=deribit&window=min', 'data': [{'start_time': 1744473540000, 'datetime': '2025-04-12 15:59:00', 'long_liquidations': 0.0, 'long_liquidations_usd': 0.0, 'short_liquidations': 0.0, 'short_liquidations_usd': 0.0}], 'local_timestamp_ms': 1744473623389, 'type': 'delta'}\n",
      "{'topic': 'cryptoquant|btc/market-data/liquidations?exchange=deribit&window=min', 'data': [{'start_time': 1744473600000, 'datetime': '2025-04-12 16:00:00', 'long_liquidations': 0.0, 'long_liquidations_usd': 0.0, 'short_liquidations': 0.0, 'short_liquidations_usd': 0.0}], 'local_timestamp_ms': 1744473683267, 'type': 'delta'}\n",
      "{'topic': 'cryptoquant|btc/market-data/liquidations?exchange=deribit&window=min', 'data': [{'start_time': 1744473660000, 'datetime': '2025-04-12 16:01:00', 'long_liquidations': 0.0, 'long_liquidations_usd': 0.0, 'short_liquidations': 0.0, 'short_liquidations_usd': 0.0}], 'local_timestamp_ms': 1744473743275, 'type': 'delta'}\n"
     ]
    }
   ],
   "source": [
    "import os\n",
    "import pandas as pd\n",
    "import asyncio\n",
    "import cybotrade_datasource\n",
    "from datetime import datetime, timezone\n",
    "\n",
    "\n",
    "async def main():\n",
    "    stream = await cybotrade_datasource.stream(\n",
    "        api_key=API_KEY,\n",
    "        topics=[\n",
    "            'cryptoquant|btc/inter-entity-flows/miner-to-miner?from_miner=f2pool&to_miner=all_miner&window=hour',\n",
    "            'cryptoquant|btc/market-data/liquidations?exchange=deribit&window=min',\n",
    "        ],\n",
    "    )\n",
    "    async for msg in stream:\n",
    "        print(msg)\n",
    "    \n",
    "asyncio.create_task(main())"
   ]
  },
  {
   "cell_type": "code",
   "execution_count": 14,
   "id": "3c3afe16",
   "metadata": {},
   "outputs": [],
   "source": [
    "df.to_csv('output.csv', index=False)"
   ]
  }
 ],
 "metadata": {
  "kernelspec": {
   "display_name": ".venv",
   "language": "python",
   "name": "python3"
  },
  "language_info": {
   "codemirror_mode": {
    "name": "ipython",
    "version": 3
   },
   "file_extension": ".py",
   "mimetype": "text/x-python",
   "name": "python",
   "nbconvert_exporter": "python",
   "pygments_lexer": "ipython3",
   "version": "3.11.9"
  }
 },
 "nbformat": 4,
 "nbformat_minor": 5
}
